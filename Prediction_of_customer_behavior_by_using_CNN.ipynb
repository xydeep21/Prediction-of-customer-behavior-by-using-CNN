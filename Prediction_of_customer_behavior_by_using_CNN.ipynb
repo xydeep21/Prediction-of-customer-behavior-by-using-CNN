{
  "nbformat": 4,
  "nbformat_minor": 0,
  "metadata": {
    "colab": {
      "name": "Prediction of customer behavior by using CNN.ipynb",
      "provenance": [],
      "collapsed_sections": [],
      "include_colab_link": true
    },
    "kernelspec": {
      "display_name": "Python 3",
      "language": "python",
      "name": "python3"
    },
    "language_info": {
      "codemirror_mode": {
        "name": "ipython",
        "version": 3
      },
      "file_extension": ".py",
      "mimetype": "text/x-python",
      "name": "python",
      "nbconvert_exporter": "python",
      "pygments_lexer": "ipython3",
      "version": "3.7.1"
    }
  },
  "cells": [
    {
      "cell_type": "markdown",
      "metadata": {
        "id": "view-in-github",
        "colab_type": "text"
      },
      "source": [
        "<a href=\"https://colab.research.google.com/github/xydeep21/Prediction-of-customer-behavior-by-using-CNN/blob/main/Prediction_of_customer_behavior_by_using_CNN.ipynb\" target=\"_parent\"><img src=\"https://colab.research.google.com/assets/colab-badge.svg\" alt=\"Open In Colab\"/></a>"
      ]
    },
    {
      "cell_type": "markdown",
      "metadata": {
        "id": "ueLS2tQ4o2YP"
      },
      "source": [
        "## Scenario"
      ]
    },
    {
      "cell_type": "markdown",
      "metadata": {
        "id": "KJyQUh4Bn6KD"
      },
      "source": [
        "Before purchasing insurances, customers are likely asked to finish a survey. The survey include questions like health conditions, habits, working condition, etc.. Insurance companies will collect and analyze the results to decide whether providing insurance service to one specific customer will be overall beneficial to the company. "
      ]
    },
    {
      "cell_type": "markdown",
      "metadata": {
        "id": "on25j_7eo6Ht"
      },
      "source": [
        "## Dataset Description"
      ]
    },
    {
      "cell_type": "markdown",
      "metadata": {
        "id": "T7xHj2BnpNXZ"
      },
      "source": [
        "**X: Images**\n",
        "\n",
        "Note: Due to customer privacy concerns, (simulated) participants' real response data is not provided, but instead, we've created images out of the reseponse data. Each participant's response information is captured by one image. You can think of it as a kind of encryption, and this encryption doesn't lose any information.\n",
        "<br><br>\n",
        "\n",
        "\n",
        "**Labels: Binary**\n",
        "\n",
        "Note: `0` means that providing insurance service to this individual will be beneficial to the insurance company, while `1` means the opposite."
      ]
    },
    {
      "cell_type": "markdown",
      "metadata": {
        "id": "ShuZ-Ch0sjna"
      },
      "source": [
        "## File Description"
      ]
    },
    {
      "cell_type": "markdown",
      "metadata": {
        "id": "ZbyrBKZcsl8D"
      },
      "source": [
        "```\n",
        "Data/\n",
        "├─ images/\n",
        "│  ├─ 0a6a24e7ef.png\n",
        "│  ├─ 0a7f251b0c.png\n",
        "│  ├─ ...\n",
        "├─ train.xlsx\n",
        "├─ predict_me.xlsx\n",
        "```\n",
        "`train.xlsx`: Training data (shape: [900, 2]) has two columns `images` (file names) and `Class` (labels). <br>\n",
        "`predict_me.xlsx`: One of your submission files. It has two columns `images` (file names) and `Class` (probability of `Class = 1`, empty, you need to fill in the cells). <br>\n",
        "`images/`: `Data/images/` contains 1000 `.png` files. 900 of them are labeled as in `train.xlsx`, and 100 of them are not labeled as in `predict_me.xlsx`.\n"
      ]
    },
    {
      "cell_type": "markdown",
      "metadata": {
        "id": "jheFbM6Erdwc"
      },
      "source": [
        "##Task"
      ]
    },
    {
      "cell_type": "markdown",
      "metadata": {
        "id": "KJPbWLUvrgl8"
      },
      "source": [
        "Build whatever model that you deem essential to predict the **probablility** of `Class = 1` for each image file in `predict_me.xlsx`. \n",
        "\n",
        "Note: Only fill in the `100` empty cells correspondingly in the second column, <font color=\"red\">don't</font> change other cells."
      ]
    },
    {
      "cell_type": "code",
      "metadata": {
        "colab": {
          "base_uri": "https://localhost:8080/"
        },
        "id": "9D0SguyJxv-K",
        "outputId": "b33eb01f-6807-4f94-d71b-d32c8b892769"
      },
      "source": [
        "from google.colab import drive\n",
        "drive.mount('/content/drive')"
      ],
      "execution_count": 2,
      "outputs": [
        {
          "output_type": "stream",
          "text": [
            "Mounted at /content/drive\n"
          ],
          "name": "stdout"
        }
      ]
    },
    {
      "cell_type": "markdown",
      "metadata": {
        "id": "QoQMsvvt8VYY"
      },
      "source": [
        "Load the libraries."
      ]
    },
    {
      "cell_type": "code",
      "metadata": {
        "id": "eH0vRcb5x2U4"
      },
      "source": [
        "import pandas as pd\r\n",
        "import numpy as np\r\n",
        "from sklearn.model_selection import train_test_split\r\n",
        "from tensorflow.keras.preprocessing.image import ImageDataGenerator\r\n",
        "from tensorflow.keras.models import Sequential\r\n",
        "from tensorflow.keras.layers import Conv2D, Dense, Dropout, MaxPooling2D, Flatten\r\n",
        "from tensorflow.keras.callbacks import EarlyStopping, Callback\r\n",
        "import matplotlib.pyplot as plt\r\n",
        "import warnings\r\n",
        "warnings.filterwarnings('ignore')"
      ],
      "execution_count": 129,
      "outputs": []
    },
    {
      "cell_type": "markdown",
      "metadata": {
        "id": "AKVA9LOT8Zg6"
      },
      "source": [
        "Load the data."
      ]
    },
    {
      "cell_type": "code",
      "metadata": {
        "colab": {
          "base_uri": "https://localhost:8080/",
          "height": 195
        },
        "id": "ClPwADkgy1LV",
        "outputId": "88592b53-6c6e-4e7a-b163-0210c80f78d3"
      },
      "source": [
        "df = pd.read_excel('/content/drive/MyDrive/565E Bonus/Data/train.xlsx')\r\n",
        "df.head()"
      ],
      "execution_count": 130,
      "outputs": [
        {
          "output_type": "execute_result",
          "data": {
            "text/html": [
              "<div>\n",
              "<style scoped>\n",
              "    .dataframe tbody tr th:only-of-type {\n",
              "        vertical-align: middle;\n",
              "    }\n",
              "\n",
              "    .dataframe tbody tr th {\n",
              "        vertical-align: top;\n",
              "    }\n",
              "\n",
              "    .dataframe thead th {\n",
              "        text-align: right;\n",
              "    }\n",
              "</style>\n",
              "<table border=\"1\" class=\"dataframe\">\n",
              "  <thead>\n",
              "    <tr style=\"text-align: right;\">\n",
              "      <th></th>\n",
              "      <th>images</th>\n",
              "      <th>Class</th>\n",
              "    </tr>\n",
              "  </thead>\n",
              "  <tbody>\n",
              "    <tr>\n",
              "      <th>0</th>\n",
              "      <td>002d89f686.png</td>\n",
              "      <td>0</td>\n",
              "    </tr>\n",
              "    <tr>\n",
              "      <th>1</th>\n",
              "      <td>007607aec7.png</td>\n",
              "      <td>1</td>\n",
              "    </tr>\n",
              "    <tr>\n",
              "      <th>2</th>\n",
              "      <td>00993a2218.png</td>\n",
              "      <td>1</td>\n",
              "    </tr>\n",
              "    <tr>\n",
              "      <th>3</th>\n",
              "      <td>00cf013b32.png</td>\n",
              "      <td>1</td>\n",
              "    </tr>\n",
              "    <tr>\n",
              "      <th>4</th>\n",
              "      <td>0120f13070.png</td>\n",
              "      <td>0</td>\n",
              "    </tr>\n",
              "  </tbody>\n",
              "</table>\n",
              "</div>"
            ],
            "text/plain": [
              "           images  Class\n",
              "0  002d89f686.png      0\n",
              "1  007607aec7.png      1\n",
              "2  00993a2218.png      1\n",
              "3  00cf013b32.png      1\n",
              "4  0120f13070.png      0"
            ]
          },
          "metadata": {
            "tags": []
          },
          "execution_count": 130
        }
      ]
    },
    {
      "cell_type": "code",
      "metadata": {
        "id": "QQHP_c6k-CBS"
      },
      "source": [
        "test_df = pd.read_excel('/content/drive/MyDrive/565E Bonus/Data/predict_me.xlsx')"
      ],
      "execution_count": 131,
      "outputs": []
    },
    {
      "cell_type": "code",
      "metadata": {
        "colab": {
          "base_uri": "https://localhost:8080/"
        },
        "id": "rLEsLku65kRU",
        "outputId": "392780fe-4c01-4e27-abd7-ecd9f226a04b"
      },
      "source": [
        "df['Class'].value_counts()"
      ],
      "execution_count": 132,
      "outputs": [
        {
          "output_type": "execute_result",
          "data": {
            "text/plain": [
              "0    679\n",
              "1    221\n",
              "Name: Class, dtype: int64"
            ]
          },
          "metadata": {
            "tags": []
          },
          "execution_count": 132
        }
      ]
    },
    {
      "cell_type": "markdown",
      "metadata": {
        "id": "51eRIxzg8b-3"
      },
      "source": [
        "The if the \"class\" is \"binary\" the model need y_col is a string."
      ]
    },
    {
      "cell_type": "code",
      "metadata": {
        "id": "EEL7banV6DND"
      },
      "source": [
        "df['Class'] = df['Class'].astype(str)"
      ],
      "execution_count": 133,
      "outputs": []
    },
    {
      "cell_type": "markdown",
      "metadata": {
        "id": "mObn-FBk8mwn"
      },
      "source": [
        "Split the data."
      ]
    },
    {
      "cell_type": "code",
      "metadata": {
        "colab": {
          "base_uri": "https://localhost:8080/"
        },
        "id": "tn7sSRAIzDnK",
        "outputId": "41cd3b86-929f-4435-a48f-5cf8e2a0c359"
      },
      "source": [
        "train_df, validation_df = train_test_split(df,test_size=0.2,random_state=0)\r\n",
        "print(train_df.shape,validation_df.shape,test_df.shape)"
      ],
      "execution_count": 134,
      "outputs": [
        {
          "output_type": "stream",
          "text": [
            "(720, 2) (180, 2) (100, 2)\n"
          ],
          "name": "stdout"
        }
      ]
    },
    {
      "cell_type": "markdown",
      "metadata": {
        "id": "EOo9hi4h8oi7"
      },
      "source": [
        "Generate the pictures that the model need."
      ]
    },
    {
      "cell_type": "code",
      "metadata": {
        "colab": {
          "base_uri": "https://localhost:8080/"
        },
        "id": "AYQBp7at4E_G",
        "outputId": "f29a3e1c-2758-4ca0-f66a-13ed74dde06b"
      },
      "source": [
        "target_size = (128, 256)\r\n",
        "\r\n",
        "## 1./255 for standardization\r\n",
        "train_datagen = ImageDataGenerator(rescale=1./255)\r\n",
        "train_gen = train_datagen.flow_from_dataframe(train_df,\r\n",
        "                        directory=\"/content/drive/MyDrive/565E Bonus/Data/images\",\r\n",
        "                        target_size=target_size,\r\n",
        "                        class_mode=\"binary\",\r\n",
        "                        x_col=\"images\",\r\n",
        "                        y_col=\"Class\",\r\n",
        "                        shuffle=True)\r\n",
        "\r\n",
        "val_datagen = ImageDataGenerator(rescale=1./255)\r\n",
        "val_gen = val_datagen.flow_from_dataframe(validation_df,\r\n",
        "                     directory=\"/content/drive/MyDrive/565E Bonus/Data/images\",\r\n",
        "                        target_size=target_size,\r\n",
        "                        class_mode=\"binary\",\r\n",
        "                        x_col=\"images\",\r\n",
        "                        y_col=\"Class\",\r\n",
        "                        shuffle=True)\r\n",
        "\r\n",
        "test_datagen = ImageDataGenerator(rescale=1./255)\r\n",
        "test_gen = test_datagen.flow_from_dataframe(test_df,\r\n",
        "                      directory=\"/content/drive/MyDrive/565E Bonus/Data/images\",\r\n",
        "                      target_size=target_size,\r\n",
        "                      class_mode=None,\r\n",
        "                      x_col=\"images\",\r\n",
        "                      y_col=None,\r\n",
        "                      shuffle=False)"
      ],
      "execution_count": 135,
      "outputs": [
        {
          "output_type": "stream",
          "text": [
            "Found 720 validated image filenames belonging to 2 classes.\n",
            "Found 180 validated image filenames belonging to 2 classes.\n",
            "Found 100 validated image filenames.\n"
          ],
          "name": "stdout"
        }
      ]
    },
    {
      "cell_type": "markdown",
      "metadata": {
        "id": "YP2x91SD86dW"
      },
      "source": [
        "Build the model."
      ]
    },
    {
      "cell_type": "code",
      "metadata": {
        "id": "W2AE_AqC69b9"
      },
      "source": [
        "model=Sequential()\r\n",
        "## Define Convolutional layer & Pooling layer\r\n",
        "model.add(Conv2D(64, 3,input_shape=(128,256,3),activation=\"relu\"))\r\n",
        "model.add(MaxPooling2D(2))\r\n",
        "## Flatten all the inputs and build CNN\r\n",
        "model.add(Flatten())\r\n",
        "## Add Dropout layer, randomly drops 50% neurons from propagation.\r\n",
        "model.add(Dropout(0.5))                                                        \r\n",
        "model.add(Dense(64,activation=\"relu\", kernel_regularizer=\"l2\"))\r\n",
        "model.add(Dense(16,activation=\"relu\"))\r\n",
        "model.add(Dense(1,activation=\"sigmoid\"))\r\n",
        "model.compile(loss=\"binary_crossentropy\",\r\n",
        "              optimizer=\"adam\",\r\n",
        "              metrics=['acc'])"
      ],
      "execution_count": 136,
      "outputs": []
    },
    {
      "cell_type": "code",
      "metadata": {
        "id": "y_8KIeYn7Rsr"
      },
      "source": [
        "## Using earlystopping in this model\r\n",
        "Es=EarlyStopping(monitor='val_loss', patience=2,restore_best_weights=True) "
      ],
      "execution_count": 137,
      "outputs": []
    },
    {
      "cell_type": "markdown",
      "metadata": {
        "id": "dBQ0Jqdw9XNp"
      },
      "source": [
        "Fit the model."
      ]
    },
    {
      "cell_type": "code",
      "metadata": {
        "colab": {
          "base_uri": "https://localhost:8080/"
        },
        "id": "x465yEV57NnY",
        "outputId": "f26f80fe-a579-47fb-9c9f-02ebf807fb03"
      },
      "source": [
        "history=model.fit(train_gen,\r\n",
        "      steps_per_epoch=train_gen.n//train_gen.batch_size,\r\n",
        "      epochs=5,\r\n",
        "      validation_data=val_gen,\r\n",
        "      validation_steps=val_gen.n//val_gen.batch_size,\r\n",
        "      callbacks=[Es])  "
      ],
      "execution_count": 138,
      "outputs": [
        {
          "output_type": "stream",
          "text": [
            "Epoch 1/5\n",
            "22/22 [==============================] - 29s 1s/step - loss: 5.2605 - acc: 0.6599 - val_loss: 2.8424 - val_acc: 0.9688\n",
            "Epoch 2/5\n",
            "22/22 [==============================] - 31s 1s/step - loss: 2.2821 - acc: 0.8110 - val_loss: 1.7185 - val_acc: 0.9750\n",
            "Epoch 3/5\n",
            "22/22 [==============================] - 28s 1s/step - loss: 1.3211 - acc: 0.9564 - val_loss: 0.9249 - val_acc: 1.0000\n",
            "Epoch 4/5\n",
            "22/22 [==============================] - 28s 1s/step - loss: 0.7518 - acc: 0.9913 - val_loss: 0.5599 - val_acc: 1.0000\n",
            "Epoch 5/5\n",
            "22/22 [==============================] - 28s 1s/step - loss: 0.4629 - acc: 1.0000 - val_loss: 0.3693 - val_acc: 1.0000\n"
          ],
          "name": "stdout"
        }
      ]
    },
    {
      "cell_type": "markdown",
      "metadata": {
        "id": "h1uHjWoa9aAJ"
      },
      "source": [
        "Plot the val_acc and acc."
      ]
    },
    {
      "cell_type": "code",
      "metadata": {
        "colab": {
          "base_uri": "https://localhost:8080/",
          "height": 281
        },
        "id": "cHENI42K9kh2",
        "outputId": "2e38514d-090c-4ab9-9572-5816f1ae906a"
      },
      "source": [
        "plt.plot(history.history['acc'], color='b')\r\n",
        "plt.plot(history.history['val_acc'], color='g')\r\n",
        "plt.title(\"train_acc & val_acc\")\r\n",
        "plt.show()"
      ],
      "execution_count": 139,
      "outputs": [
        {
          "output_type": "display_data",
          "data": {
            "image/png": "[encoded data removed]",
            "text/plain": [
              "<Figure size 432x288 with 1 Axes>"
            ]
          },
          "metadata": {
            "tags": [],
            "needs_background": "light"
          }
        }
      ]
    },
    {
      "cell_type": "code",
      "metadata": {
        "colab": {
          "base_uri": "https://localhost:8080/"
        },
        "id": "nWu_RYKAGNPy",
        "outputId": "1a3b8d16-e0e0-4c44-f7ca-3e09a33eb5bd"
      },
      "source": [
        "model.summary()"
      ],
      "execution_count": 140,
      "outputs": [
        {
          "output_type": "stream",
          "text": [
            "Model: \"sequential_5\"\n",
            "_________________________________________________________________\n",
            "Layer (type)                 Output Shape              Param #   \n",
            "=================================================================\n",
            "conv2d_5 (Conv2D)            (None, 126, 254, 64)      1792      \n",
            "_________________________________________________________________\n",
            "max_pooling2d_5 (MaxPooling2 (None, 63, 127, 64)       0         \n",
            "_________________________________________________________________\n",
            "flatten_5 (Flatten)          (None, 512064)            0         \n",
            "_________________________________________________________________\n",
            "dropout_5 (Dropout)          (None, 512064)            0         \n",
            "_________________________________________________________________\n",
            "dense_15 (Dense)             (None, 64)                32772160  \n",
            "_________________________________________________________________\n",
            "dense_16 (Dense)             (None, 16)                1040      \n",
            "_________________________________________________________________\n",
            "dense_17 (Dense)             (None, 1)                 17        \n",
            "=================================================================\n",
            "Total params: 32,775,009\n",
            "Trainable params: 32,775,009\n",
            "Non-trainable params: 0\n",
            "_________________________________________________________________\n"
          ],
          "name": "stdout"
        }
      ]
    },
    {
      "cell_type": "markdown",
      "metadata": {
        "id": "4oY65zpd9wQA"
      },
      "source": [
        "Making prediction."
      ]
    },
    {
      "cell_type": "code",
      "metadata": {
        "colab": {
          "base_uri": "https://localhost:8080/",
          "height": 195
        },
        "id": "G7UJ8vqy9zOm",
        "outputId": "91796af7-4c58-41fb-ab6e-75de0f764c07"
      },
      "source": [
        "test_set.head()"
      ],
      "execution_count": 141,
      "outputs": [
        {
          "output_type": "execute_result",
          "data": {
            "text/html": [
              "<div>\n",
              "<style scoped>\n",
              "    .dataframe tbody tr th:only-of-type {\n",
              "        vertical-align: middle;\n",
              "    }\n",
              "\n",
              "    .dataframe tbody tr th {\n",
              "        vertical-align: top;\n",
              "    }\n",
              "\n",
              "    .dataframe thead th {\n",
              "        text-align: right;\n",
              "    }\n",
              "</style>\n",
              "<table border=\"1\" class=\"dataframe\">\n",
              "  <thead>\n",
              "    <tr style=\"text-align: right;\">\n",
              "      <th></th>\n",
              "      <th>images</th>\n",
              "      <th>Class</th>\n",
              "    </tr>\n",
              "  </thead>\n",
              "  <tbody>\n",
              "    <tr>\n",
              "      <th>0</th>\n",
              "      <td>01f92a18a2.png</td>\n",
              "      <td>nan</td>\n",
              "    </tr>\n",
              "    <tr>\n",
              "      <th>1</th>\n",
              "      <td>027c10fb80.png</td>\n",
              "      <td>nan</td>\n",
              "    </tr>\n",
              "    <tr>\n",
              "      <th>2</th>\n",
              "      <td>052a1ec3a3.png</td>\n",
              "      <td>nan</td>\n",
              "    </tr>\n",
              "    <tr>\n",
              "      <th>3</th>\n",
              "      <td>0672234ede.png</td>\n",
              "      <td>nan</td>\n",
              "    </tr>\n",
              "    <tr>\n",
              "      <th>4</th>\n",
              "      <td>0b3fa303fd.png</td>\n",
              "      <td>nan</td>\n",
              "    </tr>\n",
              "  </tbody>\n",
              "</table>\n",
              "</div>"
            ],
            "text/plain": [
              "           images Class\n",
              "0  01f92a18a2.png   nan\n",
              "1  027c10fb80.png   nan\n",
              "2  052a1ec3a3.png   nan\n",
              "3  0672234ede.png   nan\n",
              "4  0b3fa303fd.png   nan"
            ]
          },
          "metadata": {
            "tags": []
          },
          "execution_count": 141
        }
      ]
    },
    {
      "cell_type": "code",
      "metadata": {
        "colab": {
          "base_uri": "https://localhost:8080/"
        },
        "id": "SaT9PdLAO1gI",
        "outputId": "0d694943-0e4f-4f79-f13c-b466ba16b812"
      },
      "source": [
        "test_gen.reset()\r\n",
        "pred = model.predict_generator(test_gen,verbose=1)"
      ],
      "execution_count": 149,
      "outputs": [
        {
          "output_type": "stream",
          "text": [
            "4/4 [==============================] - 1s 169ms/step\n"
          ],
          "name": "stdout"
        }
      ]
    },
    {
      "cell_type": "code",
      "metadata": {
        "id": "s7R5KkIBU4Ar"
      },
      "source": [
        "test_df['Class']=pred"
      ],
      "execution_count": 152,
      "outputs": []
    },
    {
      "cell_type": "code",
      "metadata": {
        "colab": {
          "base_uri": "https://localhost:8080/",
          "height": 195
        },
        "id": "pUMDpLyIU8RS",
        "outputId": "724049cd-cbeb-4db8-9d31-913be53ba2fa"
      },
      "source": [
        "test_df.head()"
      ],
      "execution_count": 153,
      "outputs": [
        {
          "output_type": "execute_result",
          "data": {
            "text/html": [
              "<div>\n",
              "<style scoped>\n",
              "    .dataframe tbody tr th:only-of-type {\n",
              "        vertical-align: middle;\n",
              "    }\n",
              "\n",
              "    .dataframe tbody tr th {\n",
              "        vertical-align: top;\n",
              "    }\n",
              "\n",
              "    .dataframe thead th {\n",
              "        text-align: right;\n",
              "    }\n",
              "</style>\n",
              "<table border=\"1\" class=\"dataframe\">\n",
              "  <thead>\n",
              "    <tr style=\"text-align: right;\">\n",
              "      <th></th>\n",
              "      <th>images</th>\n",
              "      <th>Class</th>\n",
              "    </tr>\n",
              "  </thead>\n",
              "  <tbody>\n",
              "    <tr>\n",
              "      <th>0</th>\n",
              "      <td>01f92a18a2.png</td>\n",
              "      <td>0.013167</td>\n",
              "    </tr>\n",
              "    <tr>\n",
              "      <th>1</th>\n",
              "      <td>027c10fb80.png</td>\n",
              "      <td>0.735988</td>\n",
              "    </tr>\n",
              "    <tr>\n",
              "      <th>2</th>\n",
              "      <td>052a1ec3a3.png</td>\n",
              "      <td>0.050826</td>\n",
              "    </tr>\n",
              "    <tr>\n",
              "      <th>3</th>\n",
              "      <td>0672234ede.png</td>\n",
              "      <td>0.021616</td>\n",
              "    </tr>\n",
              "    <tr>\n",
              "      <th>4</th>\n",
              "      <td>0b3fa303fd.png</td>\n",
              "      <td>0.876569</td>\n",
              "    </tr>\n",
              "  </tbody>\n",
              "</table>\n",
              "</div>"
            ],
            "text/plain": [
              "           images     Class\n",
              "0  01f92a18a2.png  0.013167\n",
              "1  027c10fb80.png  0.735988\n",
              "2  052a1ec3a3.png  0.050826\n",
              "3  0672234ede.png  0.021616\n",
              "4  0b3fa303fd.png  0.876569"
            ]
          },
          "metadata": {
            "tags": []
          },
          "execution_count": 153
        }
      ]
    },
    {
      "cell_type": "code",
      "metadata": {
        "id": "8Hb9AFSoVTEk"
      },
      "source": [
        "test_df.to_excel('/content/drive/MyDrive/565E Bonus/Data/test_result.xlsx')"
      ],
      "execution_count": 154,
      "outputs": []
    }
  ]
}